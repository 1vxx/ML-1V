{
 "cells": [
  {
   "cell_type": "markdown",
   "metadata": {
    "collapsed": true,
    "pycharm": {
     "name": "#%% md\n"
    }
   },
   "source": [
    "## SciPy\n",
    "> 1V\n",
    "\n",
    "Numpy提供了一个高性能的多维数组和基本工具来计算和操作这些数组。 而SciPy以此为基础，提供了大量在numpy数组上运行的函数，可用于不同类型的科学和工程应用程序。\n",
    "\n",
    "熟悉SciPy的最佳方法是浏览[它的文档](https://docs.scipy.org/doc/scipy/reference/)。我们将重点介绍SciPy有关的对你有价值的部分内容。"
   ]
  },
  {
   "cell_type": "markdown",
   "source": [
    "##### 图像操作\n",
    "SciPy提供了一些处理图像的基本函数。例如，它具有将映像从磁盘读入numpy数组、将numpy数组作为映像写入磁盘以及调整映像大小的功能。下面是一个演示这些函数的简单示例："
   ],
   "metadata": {
    "collapsed": false,
    "pycharm": {
     "name": "#%% md\n"
    }
   }
  },
  {
   "cell_type": "code",
   "execution_count": null,
   "outputs": [],
   "source": [
    "import imageio\n",
    "from skimage.transform import resize\n",
    "\n",
    "img = imageio.imread('cat.jpg')\n",
    "print(img.dtype, img.shape)\n",
    "\n",
    "# 变色\n",
    "img_tinted = img * [1, 0.95, 0.9]\n",
    "# 尺寸\n",
    "img_tinted = resize(img_tinted, (2560, 1560))\n",
    "imageio.imsave('cat_tinted.jpg', img_tinted)"
   ],
   "metadata": {
    "collapsed": false,
    "pycharm": {
     "name": "#%%\n"
    }
   }
  },
  {
   "cell_type": "markdown",
   "source": [
    "![](cat.jpg) ![](cat_tinted.jpg)\n",
    "\n",
    "左：原始图像。右：着色和调整大小的图像。"
   ],
   "metadata": {
    "collapsed": false,
    "pycharm": {
     "name": "#%% md\n"
    }
   }
  }
 ],
 "metadata": {
  "kernelspec": {
   "name": "pycharm-87dfc7d9",
   "language": "python",
   "display_name": "PyCharm (ML-1V)"
  },
  "language_info": {
   "codemirror_mode": {
    "name": "ipython",
    "version": 2
   },
   "file_extension": ".py",
   "mimetype": "text/x-python",
   "name": "python",
   "nbconvert_exporter": "python",
   "pygments_lexer": "ipython2",
   "version": "2.7.6"
  }
 },
 "nbformat": 4,
 "nbformat_minor": 0
}